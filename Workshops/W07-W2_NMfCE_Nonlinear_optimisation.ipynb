{
 "cells": [
  {
   "cell_type": "markdown",
   "id": "f9357af5-16bf-49dc-945c-b70582eb2059",
   "metadata": {},
   "source": [
    "# W07-W2: Nonlinear optimisation\n",
    "\n",
    "---\n",
    "\n",
    "#### Displaying solutions\n",
    "\n",
    "Solutions will be released after the workshop, as a new `.txt` file in the same GitHub repository. After pulling the file to Noteable, **run the following cell** to create clickable buttons under each exercise, which will allow you to reveal the solutions."
   ]
  },
  {
   "cell_type": "code",
   "execution_count": null,
   "id": "7cb57cd7-b33f-463d-be1d-862a7481ed5b",
   "metadata": {},
   "outputs": [],
   "source": [
    "%run scripts/create_widgets.py W07-W2"
   ]
  },
  {
   "cell_type": "markdown",
   "id": "49332904-e319-41c9-b6bf-6f1457a9b2e2",
   "metadata": {},
   "source": [
    "## Part a) \n",
    "\n",
    "Study the [scipy.optimize.minimize](https://docs.scipy.org/doc/scipy/reference/generated/scipy.optimize.minimize.html) documentation and do the examples."
   ]
  },
  {
   "cell_type": "code",
   "execution_count": null,
   "id": "733d2674-b36d-4f30-8fde-d0ac6883dcd4",
   "metadata": {},
   "outputs": [],
   "source": []
  },
  {
   "cell_type": "markdown",
   "id": "444adf9f-f4b9-482e-a03e-4b142ce6c4b4",
   "metadata": {},
   "source": [
    "## Part b) \n",
    "\n",
    "Solve the following unconstrained maximisation problem\n",
    "$$\n",
    "\\max_x \\left(126x_1 - 9 x_1^2 + 182x_2 - 13 x_2^2\\right)\n",
    "$$"
   ]
  },
  {
   "cell_type": "code",
   "execution_count": null,
   "id": "018b2ef6-94f0-4635-80a4-51d234fd05dd",
   "metadata": {},
   "outputs": [],
   "source": []
  },
  {
   "cell_type": "code",
   "execution_count": null,
   "id": "9c6570eb-78e3-47ab-8ee8-2da26899c28f",
   "metadata": {},
   "outputs": [],
   "source": [
    "%run scripts/show_solutions.py W07-W2_partb"
   ]
  },
  {
   "cell_type": "markdown",
   "id": "550a9723-063a-4b63-adf7-1a1ab66eedba",
   "metadata": {},
   "source": [
    "## Part c) \n",
    "\n",
    "Solve the following unconstrained maximisation problem\n",
    "$$\n",
    "\\max_x \\left(54x_1 - 9 x_1^2 + 78x_2 - 13 x_2^2\\right)\n",
    "$$"
   ]
  },
  {
   "cell_type": "code",
   "execution_count": null,
   "id": "ad7eb24b-c63b-4f66-9557-15181281c14a",
   "metadata": {},
   "outputs": [],
   "source": []
  },
  {
   "cell_type": "code",
   "execution_count": null,
   "id": "6dd1c1f9-8198-4d46-8338-c8e3b9d2a93e",
   "metadata": {},
   "outputs": [],
   "source": [
    "%run scripts/show_solutions.py W07-W2_partc"
   ]
  },
  {
   "cell_type": "markdown",
   "id": "177410d6-68cc-4bec-9401-16020b4778e3",
   "metadata": {},
   "source": [
    "## Part d) \n",
    "\n",
    "Solve the following unconstrained minimisation problem\n",
    "$$\n",
    "\\min_x \\left(x_1^2 + x_1(1-x_2) + x_2^2 - x_2 x_3 + x_3^2 + x_3\\right)\n",
    "$$"
   ]
  },
  {
   "cell_type": "code",
   "execution_count": null,
   "id": "3c095e94-f769-4a59-8203-1ddc3a39e2ec",
   "metadata": {},
   "outputs": [],
   "source": []
  },
  {
   "cell_type": "code",
   "execution_count": null,
   "id": "953954dc-fb81-4c3e-b2f3-ac61d907fb2c",
   "metadata": {},
   "outputs": [],
   "source": [
    "%run scripts/show_solutions.py W07-W2_partd"
   ]
  }
 ],
 "metadata": {
  "kernelspec": {
   "display_name": "Python 3 (ipykernel)",
   "language": "python",
   "name": "python3"
  },
  "language_info": {
   "codemirror_mode": {
    "name": "ipython",
    "version": 3
   },
   "file_extension": ".py",
   "mimetype": "text/x-python",
   "name": "python",
   "nbconvert_exporter": "python",
   "pygments_lexer": "ipython3",
   "version": "3.9.7"
  }
 },
 "nbformat": 4,
 "nbformat_minor": 5
}
